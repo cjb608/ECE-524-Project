{
  "nbformat": 4,
  "nbformat_minor": 0,
  "metadata": {
    "colab": {
      "name": "Web Scraper.ipynb",
      "provenance": [],
      "collapsed_sections": []
    },
    "kernelspec": {
      "name": "python3",
      "display_name": "Python 3"
    },
    "language_info": {
      "name": "python"
    }
  },
  "cells": [
    {
      "cell_type": "code",
      "metadata": {
        "id": "cFcfamC_vWUu"
      },
      "source": [
        "from bs4 import BeautifulSoup\n",
        "import numpy as np\n",
        "import pandas as pd\n",
        "from urllib.request import urlopen\n",
        "import re "
      ],
      "execution_count": null,
      "outputs": []
    },
    {
      "cell_type": "code",
      "metadata": {
        "id": "A86yrDfKwF8d"
      },
      "source": [
        "url='https://civilization.fandom.com/wiki/List_of_technologies_in_Civ6'\n",
        "html = urlopen(url) \n",
        "soup = BeautifulSoup(html, 'html.parser')\n",
        "tables = soup.find_all('table')"
      ],
      "execution_count": null,
      "outputs": []
    },
    {
      "cell_type": "code",
      "metadata": {
        "id": "M2vzLFgK0ICI"
      },
      "source": [
        "header = ['Technology', 'Prerequisites', 'Eureka', 'Infrastructure', 'Units', 'Effects']\n",
        "\n",
        "tech = []\n",
        "pre = []\n",
        "eureka = []\n",
        "inf = []\n",
        "unit = []\n",
        "effect = []\n",
        "\n",
        "for table in tables:\n",
        "  rows = table.find_all('tr')\n",
        "  ths = table.find_all('th')\n",
        "  headings = [th.text.strip() for th in ths]\n",
        "  for row in rows:\n",
        "    cells = row.find_all('td')\n",
        "    if headings == header:\n",
        "      if len(cells) > 1:\n",
        "        techs = cells[0]\n",
        "        tech.append(techs.text.strip())\n",
        "            \n",
        "        pres = cells[1]\n",
        "        pre.append(pres.text.strip())\n",
        "\n",
        "        eurekas = cells[2]\n",
        "        eureka.append(eurekas.text.strip())\n",
        "\n",
        "        infs = cells[3]\n",
        "        inf.append(infs.text.strip())\n",
        "\n",
        "        units = cells[4]\n",
        "        unit.append(units.text.strip())\n",
        "\n",
        "        effects = cells[5]\n",
        "        effect.append(effects.text.strip())\n",
        "            \n",
        "data = np.row_stack([header[:2], np.column_stack([tech, pre])])"
      ],
      "execution_count": null,
      "outputs": []
    },
    {
      "cell_type": "code",
      "source": [
        "sci_costs = ['Science Cost']\n",
        "\n",
        "for techs in data[1:-1,0]:\n",
        "  tech = re.sub('[^a-zA-Z]+', '', techs)\n",
        "  tech = re.sub(\"([a-z])([A-Z])\", \"\\\\1_\\\\2\", tech)\n",
        "  url = 'https://civilization.fandom.com/wiki/'+str(tech)+'_(Civ6)'\n",
        "  html = urlopen(url) \n",
        "  soup = BeautifulSoup(html, 'html.parser')\n",
        "  divs = soup.find_all('div')\n",
        "  cost = 0\n",
        "  for div in divs:\n",
        "    if 'data-source' in div.attrs:\n",
        "      if div['data-source'] == 'cost':\n",
        "        cost = div\n",
        "  if cost == 0:\n",
        "    sci_cost = 'NA'\n",
        "  else:\n",
        "    sci_cost = cost.text.strip()\n",
        "    sci_cost = sci_cost[sci_cost.find('\\n')+1:]\n",
        "  sci_costs.append(sci_cost)"
      ],
      "metadata": {
        "id": "kiURryKUaOi1"
      },
      "execution_count": null,
      "outputs": []
    },
    {
      "cell_type": "code",
      "source": [
        "tech_data = np.column_stack([data[:-1,:], sci_costs])\n",
        "pd.DataFrame(tech_data).to_csv(\"Civ6_Techs.csv\", header=None, index=None)"
      ],
      "metadata": {
        "id": "YKOv5_dM9Dxp"
      },
      "execution_count": null,
      "outputs": []
    },
    {
      "cell_type": "code",
      "source": [
        "url='https://civilization.fandom.com/wiki/List_of_buildings_in_Civ6'\n",
        "html = urlopen(url) \n",
        "soup = BeautifulSoup(html, 'html.parser')\n",
        "tables = soup.find_all('table')"
      ],
      "metadata": {
        "id": "pemAcmmd9ezc"
      },
      "execution_count": null,
      "outputs": []
    },
    {
      "cell_type": "code",
      "source": [
        "header1 = ['Building', 'District', 'Unlocked with', 'Era']\n",
        "header2 = ['Building', 'Prerequisites'] \n",
        "\n",
        "building = []\n",
        "district = []\n",
        "pre = []\n",
        "era = []\n",
        "\n",
        "for table in tables:\n",
        "  rows = table.find_all('tr')\n",
        "  ths = table.find_all('th')\n",
        "  headings = [th.text.strip() for th in ths]\n",
        "  for row in rows:\n",
        "    cells = row.find_all('td')\n",
        "    if headings == header1:\n",
        "      if len(cells) > 2:\n",
        "        buildings = cells[0]\n",
        "        building.append(buildings.text.strip())\n",
        "            \n",
        "        districts = cells[1]\n",
        "        district.append(districts.text.strip())\n",
        "\n",
        "        pres = cells[2]\n",
        "        pre.append(pres.text.strip())\n",
        "\n",
        "            \n",
        "data = np.row_stack([header2, np.column_stack([building, pre])])"
      ],
      "metadata": {
        "id": "2g-wfvIv-VuL"
      },
      "execution_count": null,
      "outputs": []
    },
    {
      "cell_type": "code",
      "source": [
        "pro_costs = ['Production Cost']\n",
        "\n",
        "for buildings in data[1:,0]:\n",
        "  building = re.sub(\"\\(.*?\\)\",\"()\", buildings)\n",
        "  building = re.sub('[^a-zA-Z]+', '', building)\n",
        "  building = re.sub(\"([a-z])([A-Z])\", \"\\\\1_\\\\2\", building)\n",
        "  url = 'https://civilization.fandom.com/wiki/'+str(building)+'_(Civ6)'\n",
        "  html = urlopen(url) \n",
        "  soup = BeautifulSoup(html, 'html.parser')\n",
        "  divs = soup.find_all('div')\n",
        "  cost = 0\n",
        "  for div in divs:\n",
        "    if 'data-source' in div.attrs:\n",
        "      if div['data-source'] == 'cost':\n",
        "        cost = div\n",
        "  if cost == 0:\n",
        "    pro_cost = 'NA'\n",
        "  else:\n",
        "    pro_cost = cost.text.strip()\n",
        "    pro_cost = pro_cost.split(' ',1)[0]\n",
        "  pro_costs.append(pro_cost)"
      ],
      "metadata": {
        "id": "XEK_khPPQDnj"
      },
      "execution_count": null,
      "outputs": []
    },
    {
      "cell_type": "code",
      "source": [
        "sci_boosts = ['Science Boost']\n",
        "\n",
        "for buildings in data[1:,0]:\n",
        "  building = re.sub(\"\\(.*?\\)\",\"()\", buildings)\n",
        "  building = re.sub('[^a-zA-Z]+', '', building)\n",
        "  building = re.sub(\"([a-z])([A-Z])\", \"\\\\1_\\\\2\", building)\n",
        "  url = 'https://civilization.fandom.com/wiki/'+str(building)+'_(Civ6)'\n",
        "  html = urlopen(url) \n",
        "  soup = BeautifulSoup(html, 'html.parser')\n",
        "  divs = soup.find_all('div')\n",
        "  for div in divs:\n",
        "    if 'data-source' in div.attrs:\n",
        "      if div['data-source'] == 'effect':\n",
        "        effects = div\n",
        "  sci_boost = effects.text.strip()\n",
        "  if sci_boost.find('Science') > 0:\n",
        "    sci_boost = sci_boost[:sci_boost.find('Science')][::-1]\n",
        "    sci_boost = sci_boost[:sci_boost.find('+')]\n",
        "    sci_boost = sci_boost.replace(' ', '')\n",
        "    if sci_boost.isnumeric() == False:\n",
        "      sci_boost = 'NA'\n",
        "  else:\n",
        "    sci_boost = 'NA'\n",
        "  sci_boosts.append(sci_boost)"
      ],
      "metadata": {
        "id": "_t9GEtk0D6Ap"
      },
      "execution_count": null,
      "outputs": []
    },
    {
      "cell_type": "code",
      "source": [
        "pro_boosts = ['Production Boost']\n",
        "\n",
        "for buildings in data[1:,0]:\n",
        "  building = re.sub(\"\\(.*?\\)\",\"()\", buildings)\n",
        "  building = re.sub('[^a-zA-Z]+', '', building)\n",
        "  building = re.sub(\"([a-z])([A-Z])\", \"\\\\1_\\\\2\", building)\n",
        "  url = 'https://civilization.fandom.com/wiki/'+str(building)+'_(Civ6)'\n",
        "  html = urlopen(url) \n",
        "  soup = BeautifulSoup(html, 'html.parser')\n",
        "  divs = soup.find_all('div')\n",
        "  for div in divs:\n",
        "    if 'data-source' in div.attrs:\n",
        "      if div['data-source'] == 'effect':\n",
        "        effects = div\n",
        "  pro_boost = effects.text.strip()\n",
        "  if pro_boost.find('Production') > 0:\n",
        "    pro_boost = pro_boost[:pro_boost.find('Production')][::-1]\n",
        "    pro_boost = pro_boost[:pro_boost.find('+')]\n",
        "    pro_boost = pro_boost.replace(' ', '')\n",
        "    if pro_boost.isnumeric() == False:\n",
        "      pro_boost = 'NA'\n",
        "  else:\n",
        "    pro_boost = 'NA'\n",
        "  pro_boosts.append(pro_boost)"
      ],
      "metadata": {
        "id": "sZLoLHZENBox"
      },
      "execution_count": null,
      "outputs": []
    },
    {
      "cell_type": "code",
      "source": [
        "building_data = np.column_stack([data, pro_costs, sci_boosts, pro_boosts])\n",
        "pd.DataFrame(building_data).to_csv(\"Civ6_Buildings.csv\", header=None, index=None)"
      ],
      "metadata": {
        "id": "OWwmNrGiPUUF"
      },
      "execution_count": null,
      "outputs": []
    }
  ]
}